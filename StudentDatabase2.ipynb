{
 "cells": [
  {
   "cell_type": "code",
   "execution_count": 13,
   "id": "56617389",
   "metadata": {},
   "outputs": [
    {
     "name": "stdout",
     "output_type": "stream",
     "text": [
      "Please select which action you'd like to do: add, view, or quit:add\n",
      "Please input a name for the new student:Chris Levesque\n",
      "Next please input their hometown:Charlotte\n",
      "Last please input their favorite food:lamb gyro\n",
      "Please select which action you'd like to do: add, view, or quit:view\n",
      " 1. Brian Levesque \n",
      " 2. Travis Kelce \n",
      " 3. Drake Graham \n",
      " 4. Sam Howell \n",
      " 5. Chris Levesque \n",
      "please select an index to view a student:5\n",
      "{'name': 'Chris Levesque', 'hometown': 'Charlotte', 'favorite_food': 'lamb gyro'}\n",
      "Please select which action you'd like to do: add, view, or quit:quit\n",
      "Goodbye.\n"
     ]
    }
   ],
   "source": [
    "student_list = [{\"name\": \"Brian Levesque\" , \"hometown\": \"Waldorf\", \"favorite_food\": \"tacos\" },\n",
    "                {\"name\": \"Travis Kelce\", \"hometown\": \"Cleveland\", \"favorite_food\": \"pizza\"}, \n",
    "                {\"name\": \"Drake Graham\" , \"hometown\": \"Toronto\" , \"favorite_food\": \"poutine\"},\n",
    "                {\"name\": \"Sam Howell\", \"hometown\": \"Charlotte\" , \"favorite_food\": \"bbq\"}]\n",
    "\n",
    "\n",
    "#takes in the list of students as a parameter \n",
    "#loops through the list and prints out their name along with their position in the list (index + 1)\n",
    "\n",
    "def list_names(students):\n",
    "    \n",
    "    x = 1\n",
    "    for i in student_list:\n",
    "        print (f' {x}. {i[\"name\"]} ')\n",
    "        x+=1\n",
    "\n",
    "#takes no parameters\n",
    "def get_new_student():\n",
    "    \n",
    "    #Creates a new dictionary.\n",
    "    new_student = {}\n",
    "    #Asks the user for each of the three data points: name, hometown, and favorite food. \n",
    "    s_name = input(\"Please input a name for the new student:\")\n",
    "    s_hometown = input(\"Next please input their hometown:\")\n",
    "    s_fav_food = input(\"Last please input their favorite food:\")\n",
    "    \n",
    "    #Then adds each value to the dictionary.\n",
    "    new_student[\"name\"] = s_name\n",
    "    new_student[\"hometown\"] = s_hometown\n",
    "    new_student[\"favorite_food\"] = s_fav_food\n",
    "    \n",
    "    #Returns the dictionary.\n",
    "    return new_student\n",
    "\n",
    "        \n",
    "#main code loop\n",
    "\n",
    "quit = False\n",
    "while not quit:\n",
    "    user_input = input(\"Please select which action you'd like to do: add, view, or quit:\").lower()\n",
    "    \n",
    "    if user_input == \"add\": # for when the user inputs add\n",
    "        student_list.append(get_new_student())\n",
    "    \n",
    "    elif user_input == \"view\": # for when the user inputs view\n",
    "        #call list_names\n",
    "        list_names(student_list)\n",
    "        \n",
    "        #Allow the user to select a student to view by selecting an index. Once selected, print out \n",
    "        s_index = int(input(\"please select an index or student name to view a student:\")) - 1\n",
    "        \n",
    "        print(student_list[s_index])\n",
    "    \n",
    "    else:                    #for when the user inputs quit\n",
    "        #end the main loop of the program and print a goodbye message\n",
    "        print(\"Goodbye.\")\n",
    "        quit = True\n",
    "    \n",
    "\n"
   ]
  },
  {
   "cell_type": "code",
   "execution_count": null,
   "id": "cfe0e9c7",
   "metadata": {},
   "outputs": [],
   "source": []
  },
  {
   "cell_type": "code",
   "execution_count": null,
   "id": "e0378414",
   "metadata": {},
   "outputs": [],
   "source": []
  }
 ],
 "metadata": {
  "kernelspec": {
   "display_name": "Python 3 (ipykernel)",
   "language": "python",
   "name": "python3"
  },
  "language_info": {
   "codemirror_mode": {
    "name": "ipython",
    "version": 3
   },
   "file_extension": ".py",
   "mimetype": "text/x-python",
   "name": "python",
   "nbconvert_exporter": "python",
   "pygments_lexer": "ipython3",
   "version": "3.11.7"
  }
 },
 "nbformat": 4,
 "nbformat_minor": 5
}
